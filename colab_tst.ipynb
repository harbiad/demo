{
  "nbformat": 4,
  "nbformat_minor": 0,
  "metadata": {
    "colab": {
      "name": "colab-tst.ipynb",
      "provenance": [],
      "authorship_tag": "ABX9TyOfFLiYBsungVrMMyxVkCir",
      "include_colab_link": true
    },
    "kernelspec": {
      "name": "python3",
      "display_name": "Python 3"
    },
    "language_info": {
      "name": "python"
    }
  },
  "cells": [
    {
      "cell_type": "markdown",
      "metadata": {
        "id": "view-in-github",
        "colab_type": "text"
      },
      "source": [
        "<a href=\"https://colab.research.google.com/github/harbiad/demo/blob/main/colab_tst.ipynb\" target=\"_parent\"><img src=\"https://colab.research.google.com/assets/colab-badge.svg\" alt=\"Open In Colab\"/></a>"
      ]
    },
    {
      "cell_type": "code",
      "metadata": {
        "colab": {
          "base_uri": "https://localhost:8080/"
        },
        "id": "t6KvF-pN-CZr",
        "outputId": "f0e8257c-4ce5-4ebd-9f0c-07823fecd14f"
      },
      "source": [
        "print (\"this is a test\")\n",
        "print (5+6+7)\n",
        "for i in range(1,5):\n",
        "    print (\"hi\",i)"
      ],
      "execution_count": 24,
      "outputs": [
        {
          "output_type": "stream",
          "name": "stdout",
          "text": [
            "this is a test\n",
            "18\n",
            "hi 1\n",
            "hi 2\n",
            "hi 3\n",
            "hi 4\n"
          ]
        }
      ]
    },
    {
      "cell_type": "code",
      "metadata": {
        "id": "zU62R3rcBUqq"
      },
      "source": [
        "%load_ext rpy2.ipython\n"
      ],
      "execution_count": 4,
      "outputs": []
    },
    {
      "cell_type": "code",
      "metadata": {
        "id": "G2d406-9-u4i",
        "colab": {
          "base_uri": "https://localhost:8080/"
        },
        "outputId": "f5c0e18e-5cc3-4d6d-950d-6c65746540f4"
      },
      "source": [
        "%%R\n",
        "x <- seq(0, 49, length.out=50)\n",
        "x*x\n",
        "print (x)\n",
        "\n",
        "\n",
        "#for i in range(1,5):\n",
        "#    print (\"hi\")"
      ],
      "execution_count": 33,
      "outputs": [
        {
          "output_type": "stream",
          "name": "stdout",
          "text": [
            " [1]  0  1  2  3  4  5  6  7  8  9 10 11 12 13 14 15 16 17 18 19 20 21 22 23 24\n",
            "[26] 25 26 27 28 29 30 31 32 33 34 35 36 37 38 39 40 41 42 43 44 45 46 47 48 49\n"
          ]
        }
      ]
    },
    {
      "cell_type": "code",
      "metadata": {
        "id": "_QDfu8VjBSOg"
      },
      "source": [
        ""
      ],
      "execution_count": null,
      "outputs": []
    }
  ]
}